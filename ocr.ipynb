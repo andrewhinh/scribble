{
 "cells": [
  {
   "cell_type": "code",
   "execution_count": 2,
   "metadata": {},
   "outputs": [],
   "source": [
    "from pytesseract import *\n",
    "import pytesseract\n",
    "import argparse\n",
    "import cv2\n",
    "\n",
    "# https://digi.bib.uni-mannheim.de/tesseract/"
   ]
  },
  {
   "cell_type": "code",
   "execution_count": 5,
   "metadata": {},
   "outputs": [],
   "source": [
    "# C:\\Program Files (x86)\\Tesseract-OCR\n",
    "pytesseract.pytesseract.tesseract_cmd = r'C:\\Program Files (x86)\\Tesseract-OCR\\tesseract'\n",
    "# Example tesseract_cmd = r'C:\\Program Files (x86)\\Tesseract-OCR\\tesseract'\n"
   ]
  },
  {
   "cell_type": "code",
   "execution_count": 17,
   "metadata": {},
   "outputs": [
    {
     "name": "stdout",
     "output_type": "stream",
     "text": [
      "    .mmnnzunmtnm  WWDSZMNICW!    mmsmou    I  .1MED’UD‘S'6LISOD’I  wmmwrnomr  MIMIDWWMUK  mmmrmmmn’.    I    \n"
     ]
    },
    {
     "data": {
      "text/plain": [
       "-1"
      ]
     },
     "execution_count": 17,
     "metadata": {},
     "output_type": "execute_result"
    }
   ],
   "source": [
    "img_path = \"./training-strips/images/cartoon1.png\"\n",
    "images = cv2.imread(img_path)\n",
    "\n",
    "rgb = cv2.cvtColor(images, cv2.COLOR_BGR2RGB)\n",
    "rgb = cv2.GaussianBlur(rgb,(5,5),0)\n",
    "\n",
    "results = pytesseract.image_to_data(rgb, output_type=Output.DICT)\n",
    "\n",
    "min_conf = 0.25\n",
    "\n",
    "full_text = []\n",
    "# Then loop over each of the individual text\n",
    "# localizations\n",
    "\n",
    "for i in range(0, len(results[\"text\"])):\n",
    "\n",
    "    # We can then extract the bounding box coordinates\n",
    "    # of the text region from the current result\n",
    "    x = results[\"left\"][i]\n",
    "    y = results[\"top\"][i]\n",
    "    w = results[\"width\"][i]\n",
    "    h = results[\"height\"][i]\n",
    "\n",
    "    # We will also extract the OCR text itself along\n",
    "    # with the confidence of the text localization\n",
    "    text = results[\"text\"][i]\n",
    "    conf = int(results[\"conf\"][i])\n",
    "\n",
    "    full_text.append(text)\n",
    "\n",
    "    # filter out weak confidence text localizations\n",
    "    if conf > min_conf:\n",
    "        \n",
    "        # We will display the confidence and text to\n",
    "        # our terminal\n",
    "        # print(\"Confidence: {}\".format(conf))\n",
    "        # print(\"Text: {}\".format(text))\n",
    "        # print(\"\")\n",
    "        \n",
    "        # We then strip out non-ASCII text so we can\n",
    "        # draw the text on the image We will be using\n",
    "        # OpenCV, then draw a bounding box around the\n",
    "        # text along with the text itself\n",
    "        text = \"\".join(text).strip()\n",
    "        cv2.rectangle(images,\n",
    "                    (x, y),\n",
    "                    (x + w, y + h),\n",
    "                    (0, 0, 255), 2)\n",
    "        cv2.putText(images,\n",
    "                    text,\n",
    "                    (x, y - 10),\n",
    "                    cv2.FONT_HERSHEY_SIMPLEX,\n",
    "                    0.4, (0, 0, 0), 1)\n",
    "        \n",
    "# After all, we will show the output image\n",
    "print(' '.join(full_text))\n",
    "cv2.imshow(\"Image\", images)\n",
    "cv2.waitKey(0)\n"
   ]
  },
  {
   "cell_type": "code",
   "execution_count": null,
   "metadata": {},
   "outputs": [],
   "source": [
    "!pip install imutils"
   ]
  },
  {
   "cell_type": "code",
   "execution_count": 3,
   "metadata": {},
   "outputs": [],
   "source": [
    "import imutils\n",
    "import matplotlib.pyplot as plt\n",
    "\n",
    "%matplotlib inline"
   ]
  },
  {
   "cell_type": "code",
   "execution_count": 18,
   "metadata": {},
   "outputs": [
    {
     "name": "stdout",
     "output_type": "stream",
     "text": [
      "IT’I GETTING A RIDE WITH KATIE 1b W's UEDDINGL HOPIM TO SEE BRIPN ON THE UAW 0H, THATS coou \\ WICRNT KEEPLMNG THIS LIE, SOI‘f’l JUST GOMJA OOHE OUT NDHDHIT IT: IHHIE NO IDEA UHO ANYDF THE PEOPLE YOU KEEP HENTIONING ARE. )\n"
     ]
    },
    {
     "data": {
      "text/plain": [
       "-1"
      ]
     },
     "execution_count": 18,
     "metadata": {},
     "output_type": "execute_result"
    }
   ],
   "source": [
    "img = cv2.imread(\"./training-strips/images/cartoon1.png\")\n",
    "# img = img[10 : 60, 10 : len(img[0]) - 10]\n",
    "\n",
    "image = imutils.resize(img, width=500)\n",
    "gray = cv2.cvtColor(image, cv2.COLOR_BGR2GRAY)\n",
    "img = cv2.threshold(gray, 0, 255, cv2.THRESH_BINARY | cv2.THRESH_OTSU)[1]\n",
    "# img = cv2.GaussianBlur(img,(3,3),0)\n",
    "\n",
    "results = pytesseract.image_to_data(img, output_type=Output.DICT)\n",
    "\n",
    "for i in range(0, len(results[\"text\"])):\n",
    "    x = results[\"left\"][i]\n",
    "    y = results[\"top\"][i]\n",
    "    w = results[\"width\"][i]\n",
    "    h = results[\"height\"][i]\n",
    "    \n",
    "    text = results[\"text\"][i]\n",
    "    conf = int(results[\"conf\"][i])\n",
    "\n",
    "    if conf > 0:\n",
    "        text = \"\".join(text).strip()\n",
    "        cv2.rectangle(img,\n",
    "                    (x, y),\n",
    "                    (x + w, y + h),\n",
    "                    (0, 0, 255), 2)\n",
    "\n",
    "print(' '.join([i for i in results['text'] if len(i) > 0]))\n",
    "\n",
    "# plt.figure()\n",
    "# plt.imshow(img)\n",
    "cv2.imshow(\"Image\", img)\n",
    "cv2.waitKey(0)"
   ]
  },
  {
   "cell_type": "code",
   "execution_count": 11,
   "metadata": {},
   "outputs": [
    {
     "data": {
      "text/plain": [
       "-1"
      ]
     },
     "execution_count": 11,
     "metadata": {},
     "output_type": "execute_result"
    }
   ],
   "source": []
  },
  {
   "cell_type": "code",
   "execution_count": null,
   "metadata": {},
   "outputs": [],
   "source": []
  }
 ],
 "metadata": {
  "kernelspec": {
   "display_name": "Python 3.9.13 64-bit (microsoft store)",
   "language": "python",
   "name": "python3"
  },
  "language_info": {
   "codemirror_mode": {
    "name": "ipython",
    "version": 3
   },
   "file_extension": ".py",
   "mimetype": "text/x-python",
   "name": "python",
   "nbconvert_exporter": "python",
   "pygments_lexer": "ipython3",
   "version": "3.9.13"
  },
  "orig_nbformat": 4,
  "vscode": {
   "interpreter": {
    "hash": "c7928a50541f40c9dbd9311b67ded390c2b646e5c65fa4eb2efb56e04885f139"
   }
  }
 },
 "nbformat": 4,
 "nbformat_minor": 2
}
